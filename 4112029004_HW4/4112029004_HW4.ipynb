{
  "nbformat": 4,
  "nbformat_minor": 0,
  "metadata": {
    "colab": {
      "provenance": []
    },
    "kernelspec": {
      "name": "python3",
      "display_name": "Python 3"
    },
    "language_info": {
      "name": "python"
    }
  },
  "cells": [
    {
      "cell_type": "code",
      "execution_count": 1,
      "metadata": {
        "id": "MRMmhUZ49r_V",
        "outputId": "d0944776-e04d-4e3a-894e-4288a430df02",
        "colab": {
          "base_uri": "https://localhost:8080/"
        }
      },
      "outputs": [
        {
          "output_type": "stream",
          "name": "stdout",
          "text": [
            "學生列表：\n",
            "(1, 'chicken', 30, 5)\n",
            "(2, 'beaf', 55, 10)\n",
            "(3, 'pork', 40, 15)\n",
            "學生列表：\n",
            "(1, 'chicken', 30, 30)\n",
            "(2, 'beaf', 55, 10)\n",
            "(3, 'pork', 35, 15)\n",
            "學生列表：\n",
            "(1, 'chicken', 30, 30)\n",
            "(2, 'beaf', 55, 10)\n",
            "(3, 'pork', 35, 15)\n"
          ]
        }
      ],
      "source": [
        "def output():\n",
        "    cursor.execute(\"SELECT * FROM BBQ\")\n",
        "    BBQ_read= cursor.fetchall()\n",
        "    print(\"學生列表：\")\n",
        "    for BBQS in BBQ_read:\n",
        "        print(BBQS)\n",
        "\n",
        "\n",
        "import sqlite3 as sql\n",
        "\n",
        "conn = sql.connect('BBQ')\n",
        "\n",
        "cursor = conn.cursor()\n",
        "\n",
        "cursor.execute('''\n",
        "    CREATE TABLE IF NOT EXISTS BBQ (\n",
        "        id INTEGER PRIMARY KEY,\n",
        "        name TEXT,\n",
        "        price INTEGER,\n",
        "        quantity INTEGER\n",
        "    )''')\n",
        "\n",
        "cursor.execute(\"INSERT INTO BBQ(name, price, quantity) VALUES('chicken', 30, 5)\")\n",
        "cursor.execute(\"INSERT INTO BBQ(name, price, quantity) VALUES('beaf', 55, 10)\")\n",
        "cursor.execute(\"INSERT INTO BBQ(name, price, quantity) VALUES('pork', 40, 15)\")\n",
        "\n",
        "conn.commit()\n",
        "\n",
        "output()\n",
        "\n",
        "cursor.execute(\"UPDATE BBQ SET price = 35 WHERE name = 'pork'\")\n",
        "cursor.execute(\"UPDATE BBQ SET quantity = 30 WHERE name = 'chicken'\")\n",
        "\n",
        "conn.commit()\n",
        "\n",
        "output()\n",
        "\n",
        "cursor.execute(\"DELETE FROM BBQ WHERE price = 40\")\n",
        "\n",
        "conn.commit()\n",
        "\n",
        "output()\n",
        "\n",
        "\n",
        "\n"
      ]
    }
  ]
}